{
 "cells": [
  {
   "cell_type": "markdown",
   "id": "66bd54d8",
   "metadata": {},
   "source": [
    "# Exploratory Data Analysis on Netflix Sample Dataset"
   ]
  },
  {
   "cell_type": "code",
   "execution_count": null,
   "id": "7f492507",
   "metadata": {},
   "outputs": [],
   "source": [
    "import pandas as pd\n",
    "import numpy as np\n",
    "import matplotlib.pyplot as plt\n",
    "import seaborn as sns\n",
    "%matplotlib inline"
   ]
  },
  {
   "cell_type": "markdown",
   "id": "e521f101",
   "metadata": {},
   "source": [
    "## Load Dataset"
   ]
  },
  {
   "cell_type": "code",
   "execution_count": null,
   "id": "b06f135c",
   "metadata": {},
   "outputs": [],
   "source": [
    "data = {\n",
    "    \"show_id\": [\"s1\", \"s2\", \"s3\", \"s4\"],\n",
    "    \"type\": [\"Movie\", \"TV Show\", \"Movie\", \"TV Show\"],\n",
    "    \"title\": [\"Movie A\", \"Show B\", \"Movie C\", \"Show D\"],\n",
    "    \"director\": [\"Dir A\", \"Dir B\", None, \"Dir D\"],\n",
    "    \"cast\": [\"Actor 1, Actor 2\", \"Actor 3\", \"Actor 4, Actor 5\", None],\n",
    "    \"country\": [\"United States\", \"India\", \"United Kingdom\", \"Canada\"],\n",
    "    \"date_added\": [\"January 1, 2020\", \"March 5, 2021\", \"July 20, 2022\", \"December 15, 2020\"],\n",
    "    \"release_year\": [2020, 2021, 2022, 2020],\n",
    "    \"rating\": [\"PG\", \"TV-MA\", \"PG-13\", \"G\"],\n",
    "    \"duration\": [\"90 min\", \"2 Seasons\", \"95 min\", \"3 Seasons\"],\n",
    "    \"listed_in\": [\"Dramas\", \"Comedies\", \"Action & Adventure\", \"Kids' TV\"],\n",
    "    \"description\": [\"Desc A\", \"Desc B\", \"Desc C\", \"Desc D\"]\n",
    "}\n",
    "df = pd.DataFrame(data)\n",
    "df.head()"
   ]
  },
  {
   "cell_type": "markdown",
   "id": "97c17d01",
   "metadata": {},
   "source": [
    "## Dataset Info"
   ]
  },
  {
   "cell_type": "code",
   "execution_count": null,
   "id": "36b32558",
   "metadata": {},
   "outputs": [],
   "source": [
    "df.info()"
   ]
  },
  {
   "cell_type": "markdown",
   "id": "374315c1",
   "metadata": {},
   "source": [
    "## Checking for Missing Values"
   ]
  },
  {
   "cell_type": "code",
   "execution_count": null,
   "id": "8e12c08b",
   "metadata": {},
   "outputs": [],
   "source": [
    "df.isnull().sum()"
   ]
  },
  {
   "cell_type": "markdown",
   "id": "f80e66cd",
   "metadata": {},
   "source": [
    "## Type Distribution"
   ]
  },
  {
   "cell_type": "code",
   "execution_count": null,
   "id": "c09a79a9",
   "metadata": {},
   "outputs": [],
   "source": [
    "sns.countplot(data=df, x='type'); plt.title('Distribution of Content Type');"
   ]
  },
  {
   "cell_type": "markdown",
   "id": "d07c01bd",
   "metadata": {},
   "source": [
    "## Ratings Distribution"
   ]
  },
  {
   "cell_type": "code",
   "execution_count": null,
   "id": "dd6284e8",
   "metadata": {},
   "outputs": [],
   "source": [
    "sns.countplot(data=df, x='rating'); plt.title('Distribution of Ratings');"
   ]
  },
  {
   "cell_type": "markdown",
   "id": "5f429571",
   "metadata": {},
   "source": [
    "## Release Year Distribution"
   ]
  },
  {
   "cell_type": "code",
   "execution_count": null,
   "id": "de248fa0",
   "metadata": {},
   "outputs": [],
   "source": [
    "df['release_year'].value_counts().sort_index().plot(kind='bar'); plt.title('Number of Titles per Year');"
   ]
  }
 ],
 "metadata": {},
 "nbformat": 4,
 "nbformat_minor": 5
}
